{
 "cells": [
  {
   "cell_type": "markdown",
   "metadata": {},
   "source": [
    "# Exploratory Data Analysis with Chocolate Rating¶\n",
    "\n",
    "\n",
    "### Analysing the dataset of [Chocolate Bar Ratings](https://www.kaggle.com/rtatman/chocolate-bar-ratings) to unearth key insights hidden within the data¶\n",
    " \n",
    "### Context\n",
    "Chocolate is one of the most popular candies in the world. Each year, residents of the United States collectively eat more than 2.8 billions pounds. However, not all chocolate bars are created equal! This dataset contains expert ratings of over 1,700 individual chocolate bars, along with information on their regional origin, percentage of cocoa, the variety of chocolate bean used and where the beans were grown.\n",
    "\n",
    "### Flavors of Cacao Rating System:\n",
    "+\t5= Elite (Transcending beyond the ordinary limits)\n",
    "+\t4= Premium (Superior flavor development, character and style)\n",
    "+\t3= Satisfactory(3.0) to praiseworthy(3.75) (well made with special qualities)\n",
    "+\t2= Disappointing (Passable but contains at least one significant flaw)\n",
    "+ \t1= Unpleasant (mostly unpalatable)\n",
    "\n",
    "Each chocolate is evaluated from a combination of both objective qualities and subjective interpretation. A rating here only represents an experience with one bar from one batch. Batch numbers, vintages and review dates are included in the database when known. \n",
    "\n",
    "The database is narrowly focused on plain dark chocolate with an aim of appreciating the flavors of the cacao when made into chocolate. The ratings do not reflect health benefits, social missions, or organic status.\n",
    "Flavor is the most important component of the Flavors of Cacao ratings. Diversity, balance, intensity and purity of flavors are all considered. It is possible for a straight forward single note chocolate to rate as high as a complex flavor profile that changes throughout. Genetics, terroir, post harvest techniques, processing and storage can all be discussed when considering the flavor component. \n",
    "\n",
    "Texture has a great impact on the overall experience and it is also possible for texture related issues to impact flavor. It is a good way to evaluate the makers vision, attention to detail and level of proficiency.\n",
    "Aftermelt is the experience after the chocolate has melted. Higher quality chocolate will linger and be long lasting and enjoyable. Since the aftermelt is the last impression you get from the chocolate, it receives equal importance in the overall rating.\n",
    "\n",
    "Overall Opinion is really where the ratings reflect a subjective opinion. Ideally it is my evaluation of whether or not the components above worked together and an opinion on the flavor development, character and style. It is also here where each chocolate can usually be summarized by the most prominent impressions that you would remember about each chocolate.\n",
    "\n",
    "### Acknowledgements\n",
    "These ratings were compiled by Brady Brelinski, Founding Member of the Manhattan Chocolate Society. Kindly visit[Flavors of Cacao](http://flavorsofcacao.com/index.html) for updated dataset.\n",
    "\n",
    "\n",
    "### Hypothesis\n",
    "Over time, there has been a correlation between cocoa ratings and the proportion of cocoa in a chocolate bar, as the quality of cocoa beans and chocolate bars has improved.\n",
    "\n",
    "### Hypothetical Questions.\n",
    "* Which countries produces the best cocoa beans?\n",
    "* Which countries have the highest-rated chocolate bars?\n",
    "* Is there relationship between the proportion of cocoa in chocolate bar and the rating?\n",
    "* What are the top ten companies with the highest rating?\n",
    "* What is the pattern over the years with respect to rating?\n",
    "* Is there a correlation between a bean's origin and the average rating of bars?\n",
    "* Which chocolate beans have the highest ratings?\n",
    "\n"
   ]
  },
  {
   "cell_type": "markdown",
   "metadata": {},
   "source": []
  },
  {
   "cell_type": "markdown",
   "metadata": {},
   "source": [
    "## 1. Packages"
   ]
  },
  {
   "cell_type": "code",
   "execution_count": 1,
   "metadata": {},
   "outputs": [],
   "source": [
    "# Import necessary libraries and packages\n",
    "import pandas as pd # for data processing,\n",
    "import matplotlib.pyplot as plt # for data-visualization\n",
    "%matplotlib inline\n",
    "import seaborn as sns # for data-visualization "
   ]
  },
  {
   "cell_type": "markdown",
   "metadata": {},
   "source": [
    "## 2. Data preprocessing\n",
    "\n",
    "### 2.1 Loading Data"
   ]
  },
  {
   "cell_type": "code",
   "execution_count": 2,
   "metadata": {},
   "outputs": [
    {
     "data": {
      "text/html": [
       "<div>\n",
       "<style scoped>\n",
       "    .dataframe tbody tr th:only-of-type {\n",
       "        vertical-align: middle;\n",
       "    }\n",
       "\n",
       "    .dataframe tbody tr th {\n",
       "        vertical-align: top;\n",
       "    }\n",
       "\n",
       "    .dataframe thead th {\n",
       "        text-align: right;\n",
       "    }\n",
       "</style>\n",
       "<table border=\"1\" class=\"dataframe\">\n",
       "  <thead>\n",
       "    <tr style=\"text-align: right;\">\n",
       "      <th></th>\n",
       "      <th>CompanyÂ \\n(Maker-if known)</th>\n",
       "      <th>Specific Bean Origin\\nor Bar Name</th>\n",
       "      <th>REF</th>\n",
       "      <th>Review\\nDate</th>\n",
       "      <th>Cocoa\\nPercent</th>\n",
       "      <th>Company\\nLocation</th>\n",
       "      <th>Rating</th>\n",
       "      <th>Bean\\nType</th>\n",
       "      <th>Broad Bean\\nOrigin</th>\n",
       "    </tr>\n",
       "  </thead>\n",
       "  <tbody>\n",
       "    <tr>\n",
       "      <th>0</th>\n",
       "      <td>A. Morin</td>\n",
       "      <td>Agua Grande</td>\n",
       "      <td>1876</td>\n",
       "      <td>2016</td>\n",
       "      <td>63%</td>\n",
       "      <td>France</td>\n",
       "      <td>3.75</td>\n",
       "      <td>Â</td>\n",
       "      <td>Sao Tome</td>\n",
       "    </tr>\n",
       "    <tr>\n",
       "      <th>1</th>\n",
       "      <td>A. Morin</td>\n",
       "      <td>Kpime</td>\n",
       "      <td>1676</td>\n",
       "      <td>2015</td>\n",
       "      <td>70%</td>\n",
       "      <td>France</td>\n",
       "      <td>2.75</td>\n",
       "      <td>Â</td>\n",
       "      <td>Togo</td>\n",
       "    </tr>\n",
       "    <tr>\n",
       "      <th>2</th>\n",
       "      <td>A. Morin</td>\n",
       "      <td>Atsane</td>\n",
       "      <td>1676</td>\n",
       "      <td>2015</td>\n",
       "      <td>70%</td>\n",
       "      <td>France</td>\n",
       "      <td>3.00</td>\n",
       "      <td>Â</td>\n",
       "      <td>Togo</td>\n",
       "    </tr>\n",
       "    <tr>\n",
       "      <th>3</th>\n",
       "      <td>A. Morin</td>\n",
       "      <td>Akata</td>\n",
       "      <td>1680</td>\n",
       "      <td>2015</td>\n",
       "      <td>70%</td>\n",
       "      <td>France</td>\n",
       "      <td>3.50</td>\n",
       "      <td>Â</td>\n",
       "      <td>Togo</td>\n",
       "    </tr>\n",
       "    <tr>\n",
       "      <th>4</th>\n",
       "      <td>A. Morin</td>\n",
       "      <td>Quilla</td>\n",
       "      <td>1704</td>\n",
       "      <td>2015</td>\n",
       "      <td>70%</td>\n",
       "      <td>France</td>\n",
       "      <td>3.50</td>\n",
       "      <td>Â</td>\n",
       "      <td>Peru</td>\n",
       "    </tr>\n",
       "    <tr>\n",
       "      <th>...</th>\n",
       "      <td>...</td>\n",
       "      <td>...</td>\n",
       "      <td>...</td>\n",
       "      <td>...</td>\n",
       "      <td>...</td>\n",
       "      <td>...</td>\n",
       "      <td>...</td>\n",
       "      <td>...</td>\n",
       "      <td>...</td>\n",
       "    </tr>\n",
       "    <tr>\n",
       "      <th>1790</th>\n",
       "      <td>Zotter</td>\n",
       "      <td>Peru</td>\n",
       "      <td>647</td>\n",
       "      <td>2011</td>\n",
       "      <td>70%</td>\n",
       "      <td>Austria</td>\n",
       "      <td>3.75</td>\n",
       "      <td>Â</td>\n",
       "      <td>Peru</td>\n",
       "    </tr>\n",
       "    <tr>\n",
       "      <th>1791</th>\n",
       "      <td>Zotter</td>\n",
       "      <td>Congo</td>\n",
       "      <td>749</td>\n",
       "      <td>2011</td>\n",
       "      <td>65%</td>\n",
       "      <td>Austria</td>\n",
       "      <td>3.00</td>\n",
       "      <td>Forastero</td>\n",
       "      <td>Congo</td>\n",
       "    </tr>\n",
       "    <tr>\n",
       "      <th>1792</th>\n",
       "      <td>Zotter</td>\n",
       "      <td>Kerala State</td>\n",
       "      <td>749</td>\n",
       "      <td>2011</td>\n",
       "      <td>65%</td>\n",
       "      <td>Austria</td>\n",
       "      <td>3.50</td>\n",
       "      <td>Forastero</td>\n",
       "      <td>India</td>\n",
       "    </tr>\n",
       "    <tr>\n",
       "      <th>1793</th>\n",
       "      <td>Zotter</td>\n",
       "      <td>Kerala State</td>\n",
       "      <td>781</td>\n",
       "      <td>2011</td>\n",
       "      <td>62%</td>\n",
       "      <td>Austria</td>\n",
       "      <td>3.25</td>\n",
       "      <td>Â</td>\n",
       "      <td>India</td>\n",
       "    </tr>\n",
       "    <tr>\n",
       "      <th>1794</th>\n",
       "      <td>Zotter</td>\n",
       "      <td>Brazil, Mitzi Blue</td>\n",
       "      <td>486</td>\n",
       "      <td>2010</td>\n",
       "      <td>65%</td>\n",
       "      <td>Austria</td>\n",
       "      <td>3.00</td>\n",
       "      <td>Â</td>\n",
       "      <td>Brazil</td>\n",
       "    </tr>\n",
       "  </tbody>\n",
       "</table>\n",
       "<p>1795 rows × 9 columns</p>\n",
       "</div>"
      ],
      "text/plain": [
       "     CompanyÂ \\n(Maker-if known) Specific Bean Origin\\nor Bar Name   REF  \\\n",
       "0                       A. Morin                       Agua Grande  1876   \n",
       "1                       A. Morin                             Kpime  1676   \n",
       "2                       A. Morin                            Atsane  1676   \n",
       "3                       A. Morin                             Akata  1680   \n",
       "4                       A. Morin                            Quilla  1704   \n",
       "...                          ...                               ...   ...   \n",
       "1790                      Zotter                              Peru   647   \n",
       "1791                      Zotter                             Congo   749   \n",
       "1792                      Zotter                      Kerala State   749   \n",
       "1793                      Zotter                      Kerala State   781   \n",
       "1794                      Zotter                Brazil, Mitzi Blue   486   \n",
       "\n",
       "      Review\\nDate Cocoa\\nPercent Company\\nLocation  Rating Bean\\nType  \\\n",
       "0             2016            63%            France    3.75         Â    \n",
       "1             2015            70%            France    2.75         Â    \n",
       "2             2015            70%            France    3.00         Â    \n",
       "3             2015            70%            France    3.50         Â    \n",
       "4             2015            70%            France    3.50         Â    \n",
       "...            ...            ...               ...     ...        ...   \n",
       "1790          2011            70%           Austria    3.75         Â    \n",
       "1791          2011            65%           Austria    3.00  Forastero   \n",
       "1792          2011            65%           Austria    3.50  Forastero   \n",
       "1793          2011            62%           Austria    3.25         Â    \n",
       "1794          2010            65%           Austria    3.00         Â    \n",
       "\n",
       "     Broad Bean\\nOrigin  \n",
       "0              Sao Tome  \n",
       "1                  Togo  \n",
       "2                  Togo  \n",
       "3                  Togo  \n",
       "4                  Peru  \n",
       "...                 ...  \n",
       "1790               Peru  \n",
       "1791              Congo  \n",
       "1792              India  \n",
       "1793              India  \n",
       "1794             Brazil  \n",
       "\n",
       "[1795 rows x 9 columns]"
      ]
     },
     "execution_count": 2,
     "metadata": {},
     "output_type": "execute_result"
    }
   ],
   "source": [
    "# Importing the dataset\n",
    "data = pd.read_csv('flavors_of_cacao.csv')\n",
    "data"
   ]
  },
  {
   "cell_type": "markdown",
   "metadata": {},
   "source": [
    "###### The Flavors of Cacao dataset consists of 1795 rows and 9 columns. \n",
    "###### The Columns are:\n",
    "|Column |Description  |\n",
    "|:--- | :--- |\n",
    "| Company (Maker-if known)| Name of the company manufacturing the bar.|\n",
    "| Specific Bean Originor Bar Name| The specific geo-region of origin for the bar.|\n",
    "| REF| A value linked to when the review was entered in the database. Higher = more recent.|\n",
    "| ReviewDate| Date of publication of the review.|\n",
    "| CocoaPercent| Cocoa percentage (darkness) of the chocolate bar being reviewed.|\n",
    "| CompanyLocation| Manufacturer base country.|\n",
    "| Rating| Expert rating for the bar.|\n",
    "| BeanType| The variety (breed) of bean used, if provided.|\n",
    "| Broad BeanOrigin| The broad geo-region of origin for the bean.|\n",
    "\n",
    "\n"
   ]
  },
  {
   "cell_type": "markdown",
   "metadata": {},
   "source": [
    "### 2.2 Understanding  basic  information of the data"
   ]
  },
  {
   "cell_type": "code",
   "execution_count": 3,
   "metadata": {},
   "outputs": [
    {
     "name": "stdout",
     "output_type": "stream",
     "text": [
      "Basic Information anout Data:\n",
      "\n",
      "---------------------------------------------\n",
      "Data Types of all Columns CompanyÂ \\n(Maker-if known)           object\n",
      "Specific Bean Origin\\nor Bar Name     object\n",
      "REF                                    int64\n",
      "Review\\nDate                           int64\n",
      "Cocoa\\nPercent                        object\n",
      "Company\\nLocation                     object\n",
      "Rating                               float64\n",
      "Bean\\nType                            object\n",
      "Broad Bean\\nOrigin                    object\n",
      "dtype: object\n",
      "---------------------------------------------\n",
      "\n",
      "Number of Rows: 1795\n",
      "Number of Columns: 9\n",
      "---------------------------------------------\n",
      "\n",
      "Summary Statistics:\n",
      "               REF  Review\\nDate       Rating\n",
      "count  1795.000000   1795.000000  1795.000000\n",
      "mean   1035.904735   2012.325348     3.185933\n",
      "std     552.886365      2.927210     0.478062\n",
      "min       5.000000   2006.000000     1.000000\n",
      "25%     576.000000   2010.000000     2.875000\n",
      "50%    1069.000000   2013.000000     3.250000\n",
      "75%    1502.000000   2015.000000     3.500000\n",
      "max    1952.000000   2017.000000     5.000000\n",
      "---------------------------------------------\n"
     ]
    }
   ],
   "source": [
    "# function to for data information\n",
    "def data_info(data):\n",
    "    print(\"Basic Information anout Data:\\n\")\n",
    "    print('---------------------------------------------')\n",
    "    \n",
    "    # Data Types of a DataFrame\n",
    "    print(\"Data Types of all Columns\",data.dtypes)\n",
    "    \n",
    "    print('---------------------------------------------')\n",
    "\n",
    "    # Shape of the DataFrame\n",
    "    print(\"\\nNumber of Rows:\",data.shape[0])\n",
    "    print(\"Number of Columns:\",data.shape[1])\n",
    "    \n",
    "    print('---------------------------------------------')\n",
    "\n",
    "    # Summary Statistics\n",
    "    print(\"\\nSummary Statistics:\")\n",
    "    print(data.describe())\n",
    "    \n",
    "    print('---------------------------------------------')\n",
    "\n",
    "# Getting basic information\n",
    "data_info(data)"
   ]
  },
  {
   "cell_type": "markdown",
   "metadata": {},
   "source": [
    "##### The data type information reveals something about our data, and it's not a good one!\n",
    "The column names are a little messy because they contain the \"\\n\" or \"newline\" character, which will result in unidentifiable errors we have to go through each column name and rename it explicitly!.\n",
    "\n",
    "###### Information about the  summary statistics on the dataset:\n",
    "\n",
    "* The mean review date is 2012 which shows that the data is centered around 2012.\n",
    "* The most current review date is 2017 and the oldest date is 2006.\n",
    "* This shows the data was collected for the period 2006-2017(a 11-year period)\n",
    "* The average rating of chacolate bar 3.18, which is satisfactory (represent a well made bar with special qualities.)\n",
    "* The rating of the bars is within a range of 1 to 5"
   ]
  },
  {
   "cell_type": "markdown",
   "metadata": {},
   "source": [
    "### 2.3 Data Cleaning"
   ]
  },
  {
   "cell_type": "code",
   "execution_count": 4,
   "metadata": {},
   "outputs": [
    {
     "name": "stdout",
     "output_type": "stream",
     "text": [
      "Basic Information to check data:\n",
      "\n",
      "---------------------------------------------\n",
      "\n",
      "Missing Values:\n",
      "---------------------------------------------\n",
      "CompanyÂ \\n(Maker-if known)          0\n",
      "Specific Bean Origin\\nor Bar Name    0\n",
      "REF                                  0\n",
      "Review\\nDate                         0\n",
      "Cocoa\\nPercent                       0\n",
      "Company\\nLocation                    0\n",
      "Rating                               0\n",
      "Bean\\nType                           1\n",
      "Broad Bean\\nOrigin                   1\n",
      "dtype: int64\n",
      "\n",
      "First 10 rows of the data frame.:\n",
      "---------------------------------------------\n",
      "head   CompanyÂ \\n(Maker-if known) Specific Bean Origin\\nor Bar Name   REF  \\\n",
      "0                    A. Morin                       Agua Grande  1876   \n",
      "1                    A. Morin                             Kpime  1676   \n",
      "2                    A. Morin                            Atsane  1676   \n",
      "3                    A. Morin                             Akata  1680   \n",
      "4                    A. Morin                            Quilla  1704   \n",
      "5                    A. Morin                          Carenero  1315   \n",
      "6                    A. Morin                              Cuba  1315   \n",
      "7                    A. Morin                      Sur del Lago  1315   \n",
      "8                    A. Morin                    Puerto Cabello  1319   \n",
      "9                    A. Morin                           Pablino  1319   \n",
      "\n",
      "   Review\\nDate Cocoa\\nPercent Company\\nLocation  Rating Bean\\nType  \\\n",
      "0          2016            63%            France    3.75         Â    \n",
      "1          2015            70%            France    2.75         Â    \n",
      "2          2015            70%            France    3.00         Â    \n",
      "3          2015            70%            France    3.50         Â    \n",
      "4          2015            70%            France    3.50         Â    \n",
      "5          2014            70%            France    2.75    Criollo   \n",
      "6          2014            70%            France    3.50         Â    \n",
      "7          2014            70%            France    3.50    Criollo   \n",
      "8          2014            70%            France    3.75    Criollo   \n",
      "9          2014            70%            France    4.00         Â    \n",
      "\n",
      "  Broad Bean\\nOrigin  \n",
      "0           Sao Tome  \n",
      "1               Togo  \n",
      "2               Togo  \n",
      "3               Togo  \n",
      "4               Peru  \n",
      "5          Venezuela  \n",
      "6               Cuba  \n",
      "7          Venezuela  \n",
      "8          Venezuela  \n",
      "9               Peru  \n",
      "\n",
      "Last 10 rows of the data frame.:\n",
      "---------------------------------------------\n",
      "     CompanyÂ \\n(Maker-if known) Specific Bean Origin\\nor Bar Name  REF  \\\n",
      "1785                      Zotter                      Huiwani Coop  879   \n",
      "1786                      Zotter                     El Ceibo Coop  879   \n",
      "1787                      Zotter                     Santo Domingo  879   \n",
      "1788                      Zotter                  Kongo, Highlands  883   \n",
      "1789                      Zotter                     Indianer, Raw  883   \n",
      "1790                      Zotter                              Peru  647   \n",
      "1791                      Zotter                             Congo  749   \n",
      "1792                      Zotter                      Kerala State  749   \n",
      "1793                      Zotter                      Kerala State  781   \n",
      "1794                      Zotter                Brazil, Mitzi Blue  486   \n",
      "\n",
      "      Review\\nDate Cocoa\\nPercent Company\\nLocation  Rating  \\\n",
      "1785          2012            75%           Austria    3.00   \n",
      "1786          2012            90%           Austria    3.25   \n",
      "1787          2012            70%           Austria    3.75   \n",
      "1788          2012            68%           Austria    3.25   \n",
      "1789          2012            58%           Austria    3.50   \n",
      "1790          2011            70%           Austria    3.75   \n",
      "1791          2011            65%           Austria    3.00   \n",
      "1792          2011            65%           Austria    3.50   \n",
      "1793          2011            62%           Austria    3.25   \n",
      "1794          2010            65%           Austria    3.00   \n",
      "\n",
      "               Bean\\nType  Broad Bean\\nOrigin  \n",
      "1785  Criollo, Trinitario    Papua New Guinea  \n",
      "1786                   Â              Bolivia  \n",
      "1787                   Â   Dominican Republic  \n",
      "1788            Forastero               Congo  \n",
      "1789                   Â                   Â   \n",
      "1790                   Â                 Peru  \n",
      "1791            Forastero               Congo  \n",
      "1792            Forastero               India  \n",
      "1793                   Â                India  \n",
      "1794                   Â               Brazil  \n"
     ]
    }
   ],
   "source": [
    "# function to for identifying missing values and anomalies \n",
    "\n",
    "def data_cleaning(data):\n",
    "    # Missing Value Inspection\n",
    "    print(\"Basic Information to check data:\\n\")\n",
    "    print('---------------------------------------------')\n",
    "    \n",
    "    print(\"\\nMissing Values:\")\n",
    "    print('---------------------------------------------')\n",
    "    print(data.isna().sum())\n",
    "    \n",
    "    print(\"\\nFirst 10 rows of the data frame.:\")\n",
    "    print('---------------------------------------------')\n",
    "    print('head',data.head(10))\n",
    "    \n",
    "    print(\"\\nLast 10 rows of the data frame.:\")\n",
    "    print('---------------------------------------------')\n",
    "    print(data.tail(10))\n",
    "    \n",
    "data_cleaning(data)"
   ]
  },
  {
   "cell_type": "markdown",
   "metadata": {},
   "source": [
    "##### The missing values information\n",
    "BeanType and Broad BeanOrigin both have 1 missing value.\n",
    "\n",
    "###### The first and last ten rows of the dataset shows a special character (Â) within the BeanType and Broad BeanOrigin columns.\n",
    "A further probe will give us more information on how to handle it."
   ]
  },
  {
   "cell_type": "code",
   "execution_count": 5,
   "metadata": {},
   "outputs": [
    {
     "name": "stdout",
     "output_type": "stream",
     "text": [
      "Column Names before Cleaning:\n",
      "['CompanyÂ\\xa0\\n(Maker-if known)', 'Specific Bean Origin\\nor Bar Name', 'REF', 'Review\\nDate', 'Cocoa\\nPercent', 'Company\\nLocation', 'Rating', 'Bean\\nType', 'Broad Bean\\nOrigin']\n",
      "\n",
      "Column Names after Cleaning:\n",
      "['companyâ\\xa0_(maker-if_known)', 'specific_bean_origin_or_bar_name', 'ref', 'review_date', 'cocoa_percent', 'company_location', 'rating', 'bean_type', 'broad_bean_origin']\n"
     ]
    }
   ],
   "source": [
    "#cleaning column names\n",
    "cols_names = list(data.columns)\n",
    "\n",
    "# Function to replace newline characters and spaces in the feature names\n",
    "def replace_columnNames(column_names):\n",
    "    replace_names = []\n",
    "    for f in column_names:\n",
    "        replace_names.append(((f.casefold()).replace(\"\\n\",\"_\")).replace(\" \",\"_\"))\n",
    "    return replace_names\n",
    "\n",
    "print(\"Column Names before Cleaning:\")\n",
    "print(cols_names)\n",
    "print(\"\\nColumn Names after Cleaning:\")\n",
    "print(replace_columnNames(cols_names))"
   ]
  },
  {
   "cell_type": "markdown",
   "metadata": {},
   "source": [
    "###### The columns now look much better than before. However, the **\"companyâ\\x...\"** column still looks very weird. \n",
    "###### We will manually edit and rename the column.\n",
    "###### Finally, we shall re-assign the new columns names to our dataframe."
   ]
  },
  {
   "cell_type": "code",
   "execution_count": 6,
   "metadata": {},
   "outputs": [
    {
     "data": {
      "text/plain": [
       "Company                              object\n",
       "specific_bean_origin_or_bar_name     object\n",
       "ref                                   int64\n",
       "review_date                           int64\n",
       "cocoa_percent                        object\n",
       "company_location                     object\n",
       "rating                              float64\n",
       "bean_type                            object\n",
       "broad_bean_origin                    object\n",
       "dtype: object"
      ]
     },
     "execution_count": 6,
     "metadata": {},
     "output_type": "execute_result"
    }
   ],
   "source": [
    "# Manually renaming Company name \n",
    "new_ColumnNames = replace_columnNames(cols_names)\n",
    "new_ColumnNames[0] = 'Company'\n",
    "\n",
    "# Re-assigning column names back to data \n",
    "data=data.rename(columns=dict(zip(data.columns,new_ColumnNames)))\n",
    "data.dtypes"
   ]
  },
  {
   "cell_type": "markdown",
   "metadata": {},
   "source": [
    "###### The columns names looks better and easily readable."
   ]
  },
  {
   "cell_type": "code",
   "execution_count": 7,
   "metadata": {},
   "outputs": [
    {
     "name": "stdout",
     "output_type": "stream",
     "text": [
      "Checking special character in bean_type data\n",
      "----------------------------------------------\n",
      "Â                       887\n",
      "Trinitario              419\n",
      "Criollo                 153\n",
      "Forastero                87\n",
      "Forastero (Nacional)     52\n",
      "Name: bean_type, dtype: int64\n",
      "Missing Spaces encoded as:\n"
     ]
    },
    {
     "data": {
      "text/plain": [
       "['Â\\xa0',\n",
       " 'Â\\xa0',\n",
       " 'Â\\xa0',\n",
       " 'Â\\xa0',\n",
       " 'Â\\xa0',\n",
       " 'Criollo',\n",
       " 'Â\\xa0',\n",
       " 'Criollo',\n",
       " 'Criollo',\n",
       " 'Â\\xa0']"
      ]
     },
     "execution_count": 7,
     "metadata": {},
     "output_type": "execute_result"
    }
   ],
   "source": [
    "# Probing the Â character further\n",
    "print('Checking special character in bean_type data')\n",
    "print('----------------------------------------------')\n",
    "print(data['bean_type'].value_counts().head())\n",
    "print(\"Missing Spaces encoded as:\")\n",
    "list(data['bean_type'][0:10])"
   ]
  },
  {
   "cell_type": "markdown",
   "metadata": {},
   "source": [
    "###### The information shows that  we actually have 887 instances in which \"bean_type\" is encoded as a special character Â and space or Â\\xa0."
   ]
  },
  {
   "cell_type": "code",
   "execution_count": 8,
   "metadata": {},
   "outputs": [
    {
     "data": {
      "text/html": [
       "<div>\n",
       "<style scoped>\n",
       "    .dataframe tbody tr th:only-of-type {\n",
       "        vertical-align: middle;\n",
       "    }\n",
       "\n",
       "    .dataframe tbody tr th {\n",
       "        vertical-align: top;\n",
       "    }\n",
       "\n",
       "    .dataframe thead th {\n",
       "        text-align: right;\n",
       "    }\n",
       "</style>\n",
       "<table border=\"1\" class=\"dataframe\">\n",
       "  <thead>\n",
       "    <tr style=\"text-align: right;\">\n",
       "      <th></th>\n",
       "      <th>Company</th>\n",
       "      <th>specific_bean_origin_or_bar_name</th>\n",
       "      <th>ref</th>\n",
       "      <th>review_date</th>\n",
       "      <th>cocoa_percent</th>\n",
       "      <th>company_location</th>\n",
       "      <th>rating</th>\n",
       "      <th>bean_type</th>\n",
       "      <th>broad_bean_origin</th>\n",
       "    </tr>\n",
       "  </thead>\n",
       "  <tbody>\n",
       "    <tr>\n",
       "      <th>0</th>\n",
       "      <td>A. Morin</td>\n",
       "      <td>Agua Grande</td>\n",
       "      <td>1876</td>\n",
       "      <td>2016</td>\n",
       "      <td>63%</td>\n",
       "      <td>France</td>\n",
       "      <td>3.75</td>\n",
       "      <td>None</td>\n",
       "      <td>Sao Tome</td>\n",
       "    </tr>\n",
       "    <tr>\n",
       "      <th>1</th>\n",
       "      <td>A. Morin</td>\n",
       "      <td>Kpime</td>\n",
       "      <td>1676</td>\n",
       "      <td>2015</td>\n",
       "      <td>70%</td>\n",
       "      <td>France</td>\n",
       "      <td>2.75</td>\n",
       "      <td>None</td>\n",
       "      <td>Togo</td>\n",
       "    </tr>\n",
       "    <tr>\n",
       "      <th>2</th>\n",
       "      <td>A. Morin</td>\n",
       "      <td>Atsane</td>\n",
       "      <td>1676</td>\n",
       "      <td>2015</td>\n",
       "      <td>70%</td>\n",
       "      <td>France</td>\n",
       "      <td>3.00</td>\n",
       "      <td>None</td>\n",
       "      <td>Togo</td>\n",
       "    </tr>\n",
       "    <tr>\n",
       "      <th>3</th>\n",
       "      <td>A. Morin</td>\n",
       "      <td>Akata</td>\n",
       "      <td>1680</td>\n",
       "      <td>2015</td>\n",
       "      <td>70%</td>\n",
       "      <td>France</td>\n",
       "      <td>3.50</td>\n",
       "      <td>None</td>\n",
       "      <td>Togo</td>\n",
       "    </tr>\n",
       "    <tr>\n",
       "      <th>4</th>\n",
       "      <td>A. Morin</td>\n",
       "      <td>Quilla</td>\n",
       "      <td>1704</td>\n",
       "      <td>2015</td>\n",
       "      <td>70%</td>\n",
       "      <td>France</td>\n",
       "      <td>3.50</td>\n",
       "      <td>None</td>\n",
       "      <td>Peru</td>\n",
       "    </tr>\n",
       "    <tr>\n",
       "      <th>5</th>\n",
       "      <td>A. Morin</td>\n",
       "      <td>Carenero</td>\n",
       "      <td>1315</td>\n",
       "      <td>2014</td>\n",
       "      <td>70%</td>\n",
       "      <td>France</td>\n",
       "      <td>2.75</td>\n",
       "      <td>Criollo</td>\n",
       "      <td>Venezuela</td>\n",
       "    </tr>\n",
       "    <tr>\n",
       "      <th>6</th>\n",
       "      <td>A. Morin</td>\n",
       "      <td>Cuba</td>\n",
       "      <td>1315</td>\n",
       "      <td>2014</td>\n",
       "      <td>70%</td>\n",
       "      <td>France</td>\n",
       "      <td>3.50</td>\n",
       "      <td>None</td>\n",
       "      <td>Cuba</td>\n",
       "    </tr>\n",
       "    <tr>\n",
       "      <th>7</th>\n",
       "      <td>A. Morin</td>\n",
       "      <td>Sur del Lago</td>\n",
       "      <td>1315</td>\n",
       "      <td>2014</td>\n",
       "      <td>70%</td>\n",
       "      <td>France</td>\n",
       "      <td>3.50</td>\n",
       "      <td>Criollo</td>\n",
       "      <td>Venezuela</td>\n",
       "    </tr>\n",
       "    <tr>\n",
       "      <th>8</th>\n",
       "      <td>A. Morin</td>\n",
       "      <td>Puerto Cabello</td>\n",
       "      <td>1319</td>\n",
       "      <td>2014</td>\n",
       "      <td>70%</td>\n",
       "      <td>France</td>\n",
       "      <td>3.75</td>\n",
       "      <td>Criollo</td>\n",
       "      <td>Venezuela</td>\n",
       "    </tr>\n",
       "    <tr>\n",
       "      <th>9</th>\n",
       "      <td>A. Morin</td>\n",
       "      <td>Pablino</td>\n",
       "      <td>1319</td>\n",
       "      <td>2014</td>\n",
       "      <td>70%</td>\n",
       "      <td>France</td>\n",
       "      <td>4.00</td>\n",
       "      <td>None</td>\n",
       "      <td>Peru</td>\n",
       "    </tr>\n",
       "  </tbody>\n",
       "</table>\n",
       "</div>"
      ],
      "text/plain": [
       "    Company specific_bean_origin_or_bar_name   ref  review_date cocoa_percent  \\\n",
       "0  A. Morin                      Agua Grande  1876         2016           63%   \n",
       "1  A. Morin                            Kpime  1676         2015           70%   \n",
       "2  A. Morin                           Atsane  1676         2015           70%   \n",
       "3  A. Morin                            Akata  1680         2015           70%   \n",
       "4  A. Morin                           Quilla  1704         2015           70%   \n",
       "5  A. Morin                         Carenero  1315         2014           70%   \n",
       "6  A. Morin                             Cuba  1315         2014           70%   \n",
       "7  A. Morin                     Sur del Lago  1315         2014           70%   \n",
       "8  A. Morin                   Puerto Cabello  1319         2014           70%   \n",
       "9  A. Morin                          Pablino  1319         2014           70%   \n",
       "\n",
       "  company_location  rating bean_type broad_bean_origin  \n",
       "0           France    3.75      None          Sao Tome  \n",
       "1           France    2.75      None              Togo  \n",
       "2           France    3.00      None              Togo  \n",
       "3           France    3.50      None              Togo  \n",
       "4           France    3.50      None              Peru  \n",
       "5           France    2.75   Criollo         Venezuela  \n",
       "6           France    3.50      None              Cuba  \n",
       "7           France    3.50   Criollo         Venezuela  \n",
       "8           France    3.75   Criollo         Venezuela  \n",
       "9           France    4.00      None              Peru  "
      ]
     },
     "execution_count": 8,
     "metadata": {},
     "output_type": "execute_result"
    }
   ],
   "source": [
    "# Replace the Â character spaces with None (Symbolizes no data) \n",
    "\n",
    "# Creating a dictionary for the replace character\n",
    "replace_character = {'Â\\xa0':'None'}\n",
    "\n",
    "\n",
    "# Replacing Â character spaces with None\n",
    "data.replace(replace_character, regex=True, inplace=True)\n",
    "\n",
    "# Replacing missing value with None\n",
    "data['bean_type'] = data['bean_type'].fillna('None')\n",
    "data['broad_bean_origin'] = data['broad_bean_origin'].fillna('None')\n",
    "\n",
    "\n",
    "data.head(10)\n",
    "\n",
    "#"
   ]
  },
  {
   "cell_type": "markdown",
   "metadata": {},
   "source": [
    "###### Thus, we have filled those special characters and  missing values with None.\n",
    "\n",
    "###### NOTE : Imputing the missing values with None does not offer great advantage from the viewpoint of analysis. However, it helps us maintain a much cleaner dataset which I feel is as important as keeping the visualizations clean."
   ]
  },
  {
   "cell_type": "code",
   "execution_count": 9,
   "metadata": {},
   "outputs": [
    {
     "name": "stdout",
     "output_type": "stream",
     "text": [
      "<class 'pandas.core.frame.DataFrame'>\n",
      "RangeIndex: 1795 entries, 0 to 1794\n",
      "Data columns (total 9 columns):\n",
      " #   Column                            Non-Null Count  Dtype  \n",
      "---  ------                            --------------  -----  \n",
      " 0   Company                           1795 non-null   object \n",
      " 1   specific_bean_origin_or_bar_name  1795 non-null   object \n",
      " 2   ref                               1795 non-null   int64  \n",
      " 3   review_date                       1795 non-null   int64  \n",
      " 4   cocoa_percent                     1795 non-null   object \n",
      " 5   company_location                  1795 non-null   object \n",
      " 6   rating                            1795 non-null   float64\n",
      " 7   bean_type                         1795 non-null   object \n",
      " 8   broad_bean_origin                 1795 non-null   object \n",
      "dtypes: float64(1), int64(2), object(6)\n",
      "memory usage: 126.3+ KB\n"
     ]
    }
   ],
   "source": [
    "data.info()"
   ]
  },
  {
   "cell_type": "markdown",
   "metadata": {},
   "source": [
    "##### From the data information, data has no missing values.\n",
    "\n",
    "\n",
    "\n",
    "##### __Convert Cocoa_percent to numerical values__\n",
    "** We change the % notation in 'cocoa_percent' to make it a numerical column for manipulation.**"
   ]
  },
  {
   "cell_type": "code",
   "execution_count": 10,
   "metadata": {},
   "outputs": [
    {
     "data": {
      "text/html": [
       "<div>\n",
       "<style scoped>\n",
       "    .dataframe tbody tr th:only-of-type {\n",
       "        vertical-align: middle;\n",
       "    }\n",
       "\n",
       "    .dataframe tbody tr th {\n",
       "        vertical-align: top;\n",
       "    }\n",
       "\n",
       "    .dataframe thead th {\n",
       "        text-align: right;\n",
       "    }\n",
       "</style>\n",
       "<table border=\"1\" class=\"dataframe\">\n",
       "  <thead>\n",
       "    <tr style=\"text-align: right;\">\n",
       "      <th></th>\n",
       "      <th>Company</th>\n",
       "      <th>specific_bean_origin_or_bar_name</th>\n",
       "      <th>ref</th>\n",
       "      <th>review_date</th>\n",
       "      <th>cocoa_percent</th>\n",
       "      <th>company_location</th>\n",
       "      <th>rating</th>\n",
       "      <th>bean_type</th>\n",
       "      <th>broad_bean_origin</th>\n",
       "    </tr>\n",
       "  </thead>\n",
       "  <tbody>\n",
       "    <tr>\n",
       "      <th>0</th>\n",
       "      <td>A. Morin</td>\n",
       "      <td>Agua Grande</td>\n",
       "      <td>1876</td>\n",
       "      <td>2016</td>\n",
       "      <td>0.63</td>\n",
       "      <td>France</td>\n",
       "      <td>3.75</td>\n",
       "      <td>None</td>\n",
       "      <td>Sao Tome</td>\n",
       "    </tr>\n",
       "    <tr>\n",
       "      <th>1</th>\n",
       "      <td>A. Morin</td>\n",
       "      <td>Kpime</td>\n",
       "      <td>1676</td>\n",
       "      <td>2015</td>\n",
       "      <td>0.70</td>\n",
       "      <td>France</td>\n",
       "      <td>2.75</td>\n",
       "      <td>None</td>\n",
       "      <td>Togo</td>\n",
       "    </tr>\n",
       "    <tr>\n",
       "      <th>2</th>\n",
       "      <td>A. Morin</td>\n",
       "      <td>Atsane</td>\n",
       "      <td>1676</td>\n",
       "      <td>2015</td>\n",
       "      <td>0.70</td>\n",
       "      <td>France</td>\n",
       "      <td>3.00</td>\n",
       "      <td>None</td>\n",
       "      <td>Togo</td>\n",
       "    </tr>\n",
       "    <tr>\n",
       "      <th>3</th>\n",
       "      <td>A. Morin</td>\n",
       "      <td>Akata</td>\n",
       "      <td>1680</td>\n",
       "      <td>2015</td>\n",
       "      <td>0.70</td>\n",
       "      <td>France</td>\n",
       "      <td>3.50</td>\n",
       "      <td>None</td>\n",
       "      <td>Togo</td>\n",
       "    </tr>\n",
       "    <tr>\n",
       "      <th>4</th>\n",
       "      <td>A. Morin</td>\n",
       "      <td>Quilla</td>\n",
       "      <td>1704</td>\n",
       "      <td>2015</td>\n",
       "      <td>0.70</td>\n",
       "      <td>France</td>\n",
       "      <td>3.50</td>\n",
       "      <td>None</td>\n",
       "      <td>Peru</td>\n",
       "    </tr>\n",
       "  </tbody>\n",
       "</table>\n",
       "</div>"
      ],
      "text/plain": [
       "    Company specific_bean_origin_or_bar_name   ref  review_date  \\\n",
       "0  A. Morin                      Agua Grande  1876         2016   \n",
       "1  A. Morin                            Kpime  1676         2015   \n",
       "2  A. Morin                           Atsane  1676         2015   \n",
       "3  A. Morin                            Akata  1680         2015   \n",
       "4  A. Morin                           Quilla  1704         2015   \n",
       "\n",
       "   cocoa_percent company_location  rating bean_type broad_bean_origin  \n",
       "0           0.63           France    3.75      None          Sao Tome  \n",
       "1           0.70           France    2.75      None              Togo  \n",
       "2           0.70           France    3.00      None              Togo  \n",
       "3           0.70           France    3.50      None              Togo  \n",
       "4           0.70           France    3.50      None              Peru  "
      ]
     },
     "execution_count": 10,
     "metadata": {},
     "output_type": "execute_result"
    }
   ],
   "source": [
    "# Converting % sign to percentage value\n",
    "data['cocoa_percent']=data['cocoa_percent'].str.replace('%','').astype(float)/100\n",
    "data.head()"
   ]
  },
  {
   "cell_type": "markdown",
   "metadata": {},
   "source": [
    "###### The cocoa percent is now a numerical value."
   ]
  },
  {
   "cell_type": "code",
   "execution_count": 11,
   "metadata": {},
   "outputs": [
    {
     "data": {
      "text/html": [
       "<div>\n",
       "<style scoped>\n",
       "    .dataframe tbody tr th:only-of-type {\n",
       "        vertical-align: middle;\n",
       "    }\n",
       "\n",
       "    .dataframe tbody tr th {\n",
       "        vertical-align: top;\n",
       "    }\n",
       "\n",
       "    .dataframe thead th {\n",
       "        text-align: right;\n",
       "    }\n",
       "</style>\n",
       "<table border=\"1\" class=\"dataframe\">\n",
       "  <thead>\n",
       "    <tr style=\"text-align: right;\">\n",
       "      <th></th>\n",
       "      <th>Company</th>\n",
       "      <th>specific_bean_origin_or_bar_name</th>\n",
       "      <th>ref</th>\n",
       "      <th>review_date</th>\n",
       "      <th>cocoa_percent</th>\n",
       "      <th>company_location</th>\n",
       "      <th>rating</th>\n",
       "      <th>bean_type</th>\n",
       "      <th>broad_bean_origin</th>\n",
       "    </tr>\n",
       "  </thead>\n",
       "  <tbody>\n",
       "  </tbody>\n",
       "</table>\n",
       "</div>"
      ],
      "text/plain": [
       "Empty DataFrame\n",
       "Columns: [Company, specific_bean_origin_or_bar_name, ref, review_date, cocoa_percent, company_location, rating, bean_type, broad_bean_origin]\n",
       "Index: []"
      ]
     },
     "execution_count": 11,
     "metadata": {},
     "output_type": "execute_result"
    }
   ],
   "source": [
    "# checking if null values have been filled\n",
    "null_bool = pd.isnull(data['bean_type'])\n",
    "data[null_bool]"
   ]
  },
  {
   "cell_type": "code",
   "execution_count": 12,
   "metadata": {},
   "outputs": [
    {
     "data": {
      "text/html": [
       "<div>\n",
       "<style scoped>\n",
       "    .dataframe tbody tr th:only-of-type {\n",
       "        vertical-align: middle;\n",
       "    }\n",
       "\n",
       "    .dataframe tbody tr th {\n",
       "        vertical-align: top;\n",
       "    }\n",
       "\n",
       "    .dataframe thead th {\n",
       "        text-align: right;\n",
       "    }\n",
       "</style>\n",
       "<table border=\"1\" class=\"dataframe\">\n",
       "  <thead>\n",
       "    <tr style=\"text-align: right;\">\n",
       "      <th></th>\n",
       "      <th>Company</th>\n",
       "      <th>specific_bean_origin_or_bar_name</th>\n",
       "      <th>review_date</th>\n",
       "      <th>cocoa_percent</th>\n",
       "      <th>company_location</th>\n",
       "      <th>rating</th>\n",
       "      <th>bean_type</th>\n",
       "      <th>broad_bean_origin</th>\n",
       "    </tr>\n",
       "  </thead>\n",
       "  <tbody>\n",
       "    <tr>\n",
       "      <th>0</th>\n",
       "      <td>A. Morin</td>\n",
       "      <td>Agua Grande</td>\n",
       "      <td>2016</td>\n",
       "      <td>0.63</td>\n",
       "      <td>France</td>\n",
       "      <td>3.75</td>\n",
       "      <td>None</td>\n",
       "      <td>Sao Tome</td>\n",
       "    </tr>\n",
       "    <tr>\n",
       "      <th>1</th>\n",
       "      <td>A. Morin</td>\n",
       "      <td>Kpime</td>\n",
       "      <td>2015</td>\n",
       "      <td>0.70</td>\n",
       "      <td>France</td>\n",
       "      <td>2.75</td>\n",
       "      <td>None</td>\n",
       "      <td>Togo</td>\n",
       "    </tr>\n",
       "    <tr>\n",
       "      <th>2</th>\n",
       "      <td>A. Morin</td>\n",
       "      <td>Atsane</td>\n",
       "      <td>2015</td>\n",
       "      <td>0.70</td>\n",
       "      <td>France</td>\n",
       "      <td>3.00</td>\n",
       "      <td>None</td>\n",
       "      <td>Togo</td>\n",
       "    </tr>\n",
       "    <tr>\n",
       "      <th>3</th>\n",
       "      <td>A. Morin</td>\n",
       "      <td>Akata</td>\n",
       "      <td>2015</td>\n",
       "      <td>0.70</td>\n",
       "      <td>France</td>\n",
       "      <td>3.50</td>\n",
       "      <td>None</td>\n",
       "      <td>Togo</td>\n",
       "    </tr>\n",
       "    <tr>\n",
       "      <th>4</th>\n",
       "      <td>A. Morin</td>\n",
       "      <td>Quilla</td>\n",
       "      <td>2015</td>\n",
       "      <td>0.70</td>\n",
       "      <td>France</td>\n",
       "      <td>3.50</td>\n",
       "      <td>None</td>\n",
       "      <td>Peru</td>\n",
       "    </tr>\n",
       "    <tr>\n",
       "      <th>5</th>\n",
       "      <td>A. Morin</td>\n",
       "      <td>Carenero</td>\n",
       "      <td>2014</td>\n",
       "      <td>0.70</td>\n",
       "      <td>France</td>\n",
       "      <td>2.75</td>\n",
       "      <td>Criollo</td>\n",
       "      <td>Venezuela</td>\n",
       "    </tr>\n",
       "    <tr>\n",
       "      <th>6</th>\n",
       "      <td>A. Morin</td>\n",
       "      <td>Cuba</td>\n",
       "      <td>2014</td>\n",
       "      <td>0.70</td>\n",
       "      <td>France</td>\n",
       "      <td>3.50</td>\n",
       "      <td>None</td>\n",
       "      <td>Cuba</td>\n",
       "    </tr>\n",
       "    <tr>\n",
       "      <th>7</th>\n",
       "      <td>A. Morin</td>\n",
       "      <td>Sur del Lago</td>\n",
       "      <td>2014</td>\n",
       "      <td>0.70</td>\n",
       "      <td>France</td>\n",
       "      <td>3.50</td>\n",
       "      <td>Criollo</td>\n",
       "      <td>Venezuela</td>\n",
       "    </tr>\n",
       "    <tr>\n",
       "      <th>8</th>\n",
       "      <td>A. Morin</td>\n",
       "      <td>Puerto Cabello</td>\n",
       "      <td>2014</td>\n",
       "      <td>0.70</td>\n",
       "      <td>France</td>\n",
       "      <td>3.75</td>\n",
       "      <td>Criollo</td>\n",
       "      <td>Venezuela</td>\n",
       "    </tr>\n",
       "    <tr>\n",
       "      <th>9</th>\n",
       "      <td>A. Morin</td>\n",
       "      <td>Pablino</td>\n",
       "      <td>2014</td>\n",
       "      <td>0.70</td>\n",
       "      <td>France</td>\n",
       "      <td>4.00</td>\n",
       "      <td>None</td>\n",
       "      <td>Peru</td>\n",
       "    </tr>\n",
       "  </tbody>\n",
       "</table>\n",
       "</div>"
      ],
      "text/plain": [
       "    Company specific_bean_origin_or_bar_name  review_date  cocoa_percent  \\\n",
       "0  A. Morin                      Agua Grande         2016           0.63   \n",
       "1  A. Morin                            Kpime         2015           0.70   \n",
       "2  A. Morin                           Atsane         2015           0.70   \n",
       "3  A. Morin                            Akata         2015           0.70   \n",
       "4  A. Morin                           Quilla         2015           0.70   \n",
       "5  A. Morin                         Carenero         2014           0.70   \n",
       "6  A. Morin                             Cuba         2014           0.70   \n",
       "7  A. Morin                     Sur del Lago         2014           0.70   \n",
       "8  A. Morin                   Puerto Cabello         2014           0.70   \n",
       "9  A. Morin                          Pablino         2014           0.70   \n",
       "\n",
       "  company_location  rating bean_type broad_bean_origin  \n",
       "0           France    3.75      None          Sao Tome  \n",
       "1           France    2.75      None              Togo  \n",
       "2           France    3.00      None              Togo  \n",
       "3           France    3.50      None              Togo  \n",
       "4           France    3.50      None              Peru  \n",
       "5           France    2.75   Criollo         Venezuela  \n",
       "6           France    3.50      None              Cuba  \n",
       "7           France    3.50   Criollo         Venezuela  \n",
       "8           France    3.75   Criollo         Venezuela  \n",
       "9           France    4.00      None              Peru  "
      ]
     },
     "execution_count": 12,
     "metadata": {},
     "output_type": "execute_result"
    }
   ],
   "source": [
    "# Droping the ref column\n",
    "data.drop(['ref'], axis = 1,inplace = True)\n",
    "data.head(10)"
   ]
  },
  {
   "cell_type": "code",
   "execution_count": 13,
   "metadata": {},
   "outputs": [
    {
     "data": {
      "image/png": "[encoded data removed]",
      "text/plain": [
       "<Figure size 432x288 with 2 Axes>"
      ]
     },
     "metadata": {
      "needs_background": "light"
     },
     "output_type": "display_data"
    }
   ],
   "source": [
    "## Checking for the relationship between the variables\n",
    "# using the correlation matrix and heatmap\n",
    "# calculate correlation matrix\n",
    "corr_matrix = data.corr()\n",
    "# plot the heatmap\n",
    "sns.heatmap(corr_matrix, xticklabels=corr_matrix.columns,yticklabels=corr_matrix.columns, annot=True, cmap=\"Spectral\")\n",
    "sns.set(rc={'figure.figsize':(8, 9)})\n",
    "plt.title(\"A Heatmap showing the correlation between variables\", fontdict = {'fontsize' : 16});\n"
   ]
  },
  {
   "cell_type": "markdown",
   "metadata": {},
   "source": [
    "#### Observations:\n",
    "It is clear from the heatmap and the seaborn(sns) correlation graphs that:\n",
    "\n",
    "* There is a No correlation amongst the variables.\n"
   ]
  },
  {
   "cell_type": "code",
   "execution_count": 160,
   "metadata": {},
   "outputs": [
    {
     "data": {
      "image/png": "[encoded data removed]",
      "text/plain": [
       "<Figure size 540x540 with 12 Axes>"
      ]
     },
     "metadata": {},
     "output_type": "display_data"
    }
   ],
   "source": [
    "# pair plot to further visualize the relationship between the variables\n",
    "sns.set(style='white')\n",
    "sns.pairplot(data);"
   ]
  },
  {
   "cell_type": "markdown",
   "metadata": {},
   "source": [
    "###### The pair plot further indicate a NO correlation between rating, percentage of cocoa and review date.\n"
   ]
  },
  {
   "cell_type": "markdown",
   "metadata": {},
   "source": [
    "# 3. Analyzing Hypothetical Questions"
   ]
  },
  {
   "cell_type": "markdown",
   "metadata": {},
   "source": [
    "## 3.1. Which countries produces the best cocoa beans?"
   ]
  },
  {
   "cell_type": "code",
   "execution_count": 94,
   "metadata": {},
   "outputs": [
    {
     "data": {
      "text/html": [
       "<div>\n",
       "<style scoped>\n",
       "    .dataframe tbody tr th:only-of-type {\n",
       "        vertical-align: middle;\n",
       "    }\n",
       "\n",
       "    .dataframe tbody tr th {\n",
       "        vertical-align: top;\n",
       "    }\n",
       "\n",
       "    .dataframe thead th {\n",
       "        text-align: right;\n",
       "    }\n",
       "</style>\n",
       "<table border=\"1\" class=\"dataframe\">\n",
       "  <thead>\n",
       "    <tr style=\"text-align: right;\">\n",
       "      <th></th>\n",
       "      <th>Country</th>\n",
       "      <th>Number of Chocolate Bars</th>\n",
       "    </tr>\n",
       "  </thead>\n",
       "  <tbody>\n",
       "    <tr>\n",
       "      <th>0</th>\n",
       "      <td>Venezuela</td>\n",
       "      <td>166</td>\n",
       "    </tr>\n",
       "    <tr>\n",
       "      <th>1</th>\n",
       "      <td>Ecuador</td>\n",
       "      <td>138</td>\n",
       "    </tr>\n",
       "    <tr>\n",
       "      <th>2</th>\n",
       "      <td>Peru</td>\n",
       "      <td>111</td>\n",
       "    </tr>\n",
       "    <tr>\n",
       "      <th>3</th>\n",
       "      <td>Madagascar</td>\n",
       "      <td>117</td>\n",
       "    </tr>\n",
       "    <tr>\n",
       "      <th>4</th>\n",
       "      <td>Dominican Republic</td>\n",
       "      <td>113</td>\n",
       "    </tr>\n",
       "  </tbody>\n",
       "</table>\n",
       "</div>"
      ],
      "text/plain": [
       "              Country  Number of Chocolate Bars\n",
       "0           Venezuela                       166\n",
       "1             Ecuador                       138\n",
       "2                Peru                       111\n",
       "3          Madagascar                       117\n",
       "4  Dominican Republic                       113"
      ]
     },
     "execution_count": 94,
     "metadata": {},
     "output_type": "execute_result"
    }
   ],
   "source": [
    "# countries with the most reviews\n",
    "countries=data['broad_bean_origin'].value_counts().index.tolist()[:5]\n",
    "\n",
    "# countries has the top 5 countries in terms of reviews\n",
    "satisfactory={} # empty dictionary\n",
    "for i in countries:\n",
    "    count=0\n",
    "    best_country=data[data['broad_bean_origin']==i]\n",
    "    best_rating=best_country[best_country['rating']>=3] # rating more than 4\n",
    "    for j in best_rating['rating']:\n",
    "        count+=1\n",
    "        satisfactory[i]=count\n",
    "\n",
    "satisfactory = pd.DataFrame(list(satisfactory.items()),columns = ['Country','Number of Chocolate Bars'])\n",
    "\n",
    "satisfactory"
   ]
  },
  {
   "cell_type": "markdown",
   "metadata": {},
   "source": [
    "###### Venezuela has the largest number of chocolate bars rated above 3.0"
   ]
  },
  {
   "cell_type": "code",
   "execution_count": 159,
   "metadata": {},
   "outputs": [
    {
     "data": {
      "image/png": "[encoded data removed]",
      "text/plain": [
       "<Figure size 1152x648 with 1 Axes>"
      ]
     },
     "metadata": {},
     "output_type": "display_data"
    }
   ],
   "source": [
    "# Code to visualize the countries that give best cocoa beans\n",
    "satisfactory = pd.DataFrame(satisfactory).reset_index()\n",
    "sns.set(style='white')\n",
    "plt.figure(figsize=(16,9))\n",
    "sns.barplot(x='Country', y='Number of Chocolate Bars', data=satisfactory)\n",
    "plt.xlabel('\\nCountry')\n",
    "plt.ylabel('Number of chocolate bars')\n",
    "plt.title(\"Top 5 Broad origins of the Chocolate Beans with a Rating above 3.0\\n\")\n",
    "plt.show()"
   ]
  },
  {
   "cell_type": "code",
   "execution_count": 67,
   "metadata": {},
   "outputs": [
    {
     "data": {
      "text/html": [
       "<div>\n",
       "<style scoped>\n",
       "    .dataframe tbody tr th:only-of-type {\n",
       "        vertical-align: middle;\n",
       "    }\n",
       "\n",
       "    .dataframe tbody tr th {\n",
       "        vertical-align: top;\n",
       "    }\n",
       "\n",
       "    .dataframe thead th {\n",
       "        text-align: right;\n",
       "    }\n",
       "</style>\n",
       "<table border=\"1\" class=\"dataframe\">\n",
       "  <thead>\n",
       "    <tr style=\"text-align: right;\">\n",
       "      <th></th>\n",
       "      <th>broad_bean_origin</th>\n",
       "      <th>rating</th>\n",
       "    </tr>\n",
       "  </thead>\n",
       "  <tbody>\n",
       "    <tr>\n",
       "      <th>0</th>\n",
       "      <td>Peru, Dom. Rep</td>\n",
       "      <td>4.00</td>\n",
       "    </tr>\n",
       "    <tr>\n",
       "      <th>1</th>\n",
       "      <td>Guat., D.R., Peru, Mad., PNG</td>\n",
       "      <td>4.00</td>\n",
       "    </tr>\n",
       "    <tr>\n",
       "      <th>2</th>\n",
       "      <td>Ven, Bolivia, D.R.</td>\n",
       "      <td>4.00</td>\n",
       "    </tr>\n",
       "    <tr>\n",
       "      <th>3</th>\n",
       "      <td>Venezuela, Java</td>\n",
       "      <td>4.00</td>\n",
       "    </tr>\n",
       "    <tr>\n",
       "      <th>4</th>\n",
       "      <td>Dom. Rep., Madagascar</td>\n",
       "      <td>4.00</td>\n",
       "    </tr>\n",
       "    <tr>\n",
       "      <th>5</th>\n",
       "      <td>Gre., PNG, Haw., Haiti, Mad</td>\n",
       "      <td>4.00</td>\n",
       "    </tr>\n",
       "    <tr>\n",
       "      <th>6</th>\n",
       "      <td>Ven.,Ecu.,Peru,Nic.</td>\n",
       "      <td>3.75</td>\n",
       "    </tr>\n",
       "    <tr>\n",
       "      <th>7</th>\n",
       "      <td>Venez,Africa,Brasil,Peru,Mex</td>\n",
       "      <td>3.75</td>\n",
       "    </tr>\n",
       "    <tr>\n",
       "      <th>8</th>\n",
       "      <td>Dominican Rep., Bali</td>\n",
       "      <td>3.75</td>\n",
       "    </tr>\n",
       "    <tr>\n",
       "      <th>9</th>\n",
       "      <td>PNG, Vanuatu, Mad</td>\n",
       "      <td>3.75</td>\n",
       "    </tr>\n",
       "  </tbody>\n",
       "</table>\n",
       "</div>"
      ],
      "text/plain": [
       "              broad_bean_origin  rating\n",
       "0                Peru, Dom. Rep    4.00\n",
       "1  Guat., D.R., Peru, Mad., PNG    4.00\n",
       "2            Ven, Bolivia, D.R.    4.00\n",
       "3               Venezuela, Java    4.00\n",
       "4         Dom. Rep., Madagascar    4.00\n",
       "5   Gre., PNG, Haw., Haiti, Mad    4.00\n",
       "6           Ven.,Ecu.,Peru,Nic.    3.75\n",
       "7  Venez,Africa,Brasil,Peru,Mex    3.75\n",
       "8          Dominican Rep., Bali    3.75\n",
       "9             PNG, Vanuatu, Mad    3.75"
      ]
     },
     "execution_count": 67,
     "metadata": {},
     "output_type": "execute_result"
    }
   ],
   "source": [
    "#Top 10 countries in terms of cocoa beans by rating\n",
    "\n",
    "# Create dataframe for bean producers and rating\n",
    "cols = ['broad_bean_origin','rating']\n",
    "top_10_beans = data[cols]\n",
    "\n",
    "# Top 10 beans producers by their rating average\n",
    "top_10_beans = top_10_beans.groupby('broad_bean_origin').aggregate({'rating':'mean'}).sort_values(by=['rating'],ascending=False).head(10)\n",
    "top_10_beans = pd.DataFrame(top_10_beans).reset_index()\n",
    "\n",
    "top_10_beans"
   ]
  },
  {
   "cell_type": "markdown",
   "metadata": {},
   "source": [
    "###### This table shows that on the average a combination of regions  produce a top rating cocoa bean type. The highest average rating is 4.0"
   ]
  },
  {
   "cell_type": "code",
   "execution_count": 158,
   "metadata": {},
   "outputs": [
    {
     "data": {
      "image/png": "[encoded data removed]",
      "text/plain": [
       "<Figure size 1152x648 with 1 Axes>"
      ]
     },
     "metadata": {},
     "output_type": "display_data"
    }
   ],
   "source": [
    "# visualizing the top to bean producers by rating\n",
    "sns.set(style='white')\n",
    "plt.figure(figsize=(16,9))\n",
    "sns.barplot(x='broad_bean_origin', y='rating', data=top_10_beans)\n",
    "plt.xticks(rotation=45)\n",
    "plt.xlabel(\"\\nBeans Producing Geo-Region\")\n",
    "plt.ylabel(\"Average Rating\")\n",
    "plt.title(\"Top 10 Bean Producing Geo-Region by Average Rating\\n\")\n",
    "plt.show()\n"
   ]
  },
  {
   "cell_type": "markdown",
   "metadata": {},
   "source": [
    "## 3.2. Which countries have the highest-rated chocolate bars?"
   ]
  },
  {
   "cell_type": "code",
   "execution_count": 151,
   "metadata": {},
   "outputs": [
    {
     "data": {
      "text/html": [
       "<div>\n",
       "<style scoped>\n",
       "    .dataframe tbody tr th:only-of-type {\n",
       "        vertical-align: middle;\n",
       "    }\n",
       "\n",
       "    .dataframe tbody tr th {\n",
       "        vertical-align: top;\n",
       "    }\n",
       "\n",
       "    .dataframe thead th {\n",
       "        text-align: right;\n",
       "    }\n",
       "</style>\n",
       "<table border=\"1\" class=\"dataframe\">\n",
       "  <thead>\n",
       "    <tr style=\"text-align: right;\">\n",
       "      <th></th>\n",
       "      <th>Country</th>\n",
       "      <th>Number of Reviews</th>\n",
       "    </tr>\n",
       "  </thead>\n",
       "  <tbody>\n",
       "    <tr>\n",
       "      <th>0</th>\n",
       "      <td>Madagascar</td>\n",
       "      <td>47</td>\n",
       "    </tr>\n",
       "    <tr>\n",
       "      <th>1</th>\n",
       "      <td>Ecuador</td>\n",
       "      <td>28</td>\n",
       "    </tr>\n",
       "    <tr>\n",
       "      <th>2</th>\n",
       "      <td>Dominican Republic</td>\n",
       "      <td>27</td>\n",
       "    </tr>\n",
       "    <tr>\n",
       "      <th>3</th>\n",
       "      <td>Peru</td>\n",
       "      <td>23</td>\n",
       "    </tr>\n",
       "    <tr>\n",
       "      <th>4</th>\n",
       "      <td>Sambirano</td>\n",
       "      <td>17</td>\n",
       "    </tr>\n",
       "  </tbody>\n",
       "</table>\n",
       "</div>"
      ],
      "text/plain": [
       "              Country  Number of Reviews\n",
       "0          Madagascar                 47\n",
       "1             Ecuador                 28\n",
       "2  Dominican Republic                 27\n",
       "3                Peru                 23\n",
       "4           Sambirano                 17"
      ]
     },
     "execution_count": 151,
     "metadata": {},
     "output_type": "execute_result"
    }
   ],
   "source": [
    "#create dataframe for specific_bean_origin_or_bar_name and rating\n",
    "cols = ['specific_bean_origin_or_bar_name','rating']\n",
    "review_data = data[cols]\n",
    "\n",
    "# countries with the most reviews (satisfactory:rating >=3)\n",
    "most_reviews = review_data[review_data['rating']>=3]\n",
    "\n",
    "# Top 5 countries with most reviews\n",
    "most_reviews = pd.DataFrame(most_reviews['specific_bean_origin_or_bar_name'].value_counts()[:5])\n",
    "\n",
    "# Make index (specific_bean_origin_or_bar_name) a column\n",
    "most_reviews.reset_index(level=0, inplace=True)\n",
    "\n",
    "# rename columns\n",
    "most_reviews.columns=['Country','Number of Reviews']\n",
    "\n",
    "most_reviews"
   ]
  },
  {
   "cell_type": "markdown",
   "metadata": {},
   "source": [
    "###### The table shows that Madagascar was reviewed satisfactory(>=3) 47 times, at least 19 more than Ecuador the second highest reviewed."
   ]
  },
  {
   "cell_type": "code",
   "execution_count": 157,
   "metadata": {},
   "outputs": [
    {
     "data": {
      "text/plain": [
       "<Figure size 1152x648 with 0 Axes>"
      ]
     },
     "metadata": {},
     "output_type": "display_data"
    },
    {
     "data": {
      "image/png": "[encoded data removed]",
      "text/plain": [
       "<Figure size 360x360 with 1 Axes>"
      ]
     },
     "metadata": {},
     "output_type": "display_data"
    }
   ],
   "source": [
    "# visualizing the top 5 most rated countries\n",
    "sns.set(style='white')\n",
    "plt.figure(figsize=(16,9))\n",
    "sns.catplot(x='Country', y='Number of Reviews',kind=\"bar\", palette=\"ch:.25\",data=most_reviews)\n",
    "plt.xticks(rotation=45)\n",
    "plt.title(\"Top 5 Countries with Highest Reviews \\n\")\n",
    "plt.show()\n"
   ]
  },
  {
   "cell_type": "markdown",
   "metadata": {},
   "source": [
    "###### The catplot confirms Madagascar as the  highest-rated chocolate bars (rating >=3) "
   ]
  },
  {
   "cell_type": "markdown",
   "metadata": {},
   "source": [
    "## 3.3. Is there relationship between the proportion of cocoa in chocolate bar and the rating?"
   ]
  },
  {
   "cell_type": "code",
   "execution_count": 231,
   "metadata": {},
   "outputs": [
    {
     "name": "stdout",
     "output_type": "stream",
     "text": [
      "    Review Year  Average Cocoa Percentage  Average Rating\n",
      "0          2006                  0.710000        3.125000\n",
      "1          2007                  0.720390        3.162338\n",
      "2          2008                  0.726989        2.994624\n",
      "3          2009                  0.704431        3.073171\n",
      "4          2010                  0.707793        3.148649\n",
      "5          2011                  0.709697        3.256061\n",
      "6          2012                  0.715282        3.178205\n",
      "7          2013                  0.722663        3.197011\n",
      "8          2014                  0.722530        3.189271\n",
      "9          2015                  0.720140        3.246491\n",
      "10         2016                  0.717580        3.226027\n",
      "11         2017                  0.715417        3.312500\n"
     ]
    },
    {
     "data": {
      "image/png": "[encoded data removed]",
      "text/plain": [
       "<Figure size 1080x288 with 2 Axes>"
      ]
     },
     "metadata": {},
     "output_type": "display_data"
    }
   ],
   "source": [
    "# Cocoa Percentage patterns and rating over the years\n",
    "cols = ['review_date','cocoa_percent','rating']\n",
    "relation_table = data[cols]\n",
    "\n",
    "# group table by review year and Aggregate by mean rating and percentage of cocoa in bar\n",
    "relation_table = relation_table.groupby('review_date').agg(\n",
    "    cocoaPercent=pd.NamedAgg(column='cocoa_percent', aggfunc='mean'), \n",
    "    cocoaRating=pd.NamedAgg(column='rating', aggfunc='mean'))\n",
    "\n",
    "# Reset Index\n",
    "relation_table = relation_table.reset_index()\n",
    "\n",
    "# rename columns\n",
    "relation_table.columns=['Review Year','Average Cocoa Percentage', 'Average Rating']\n",
    "\n",
    "# Print table\n",
    "print(relation_table)\n",
    "\n",
    "# visualizing of Cocoa Percentage and rating patterns over the years\n",
    "sns.set(style='white')\n",
    "\n",
    "plt.figure(figsize=(15, 4))\n",
    "g1 = sns.lineplot(x='Review Year', y='Average Cocoa Percentage', data=relation_table, color=\"red\",marker='o',label = '% Cocoa')\n",
    "\n",
    "# Adding Twin Axes to plot using Average Rating\n",
    "ax2 = plt.twinx()\n",
    "g2 = sns.lineplot(x='Review Year', y='Average Rating', data=relation_table, color=\"green\",marker='o',ax=ax2,label = 'Rating')\n",
    "\n",
    "# Adding title\n",
    "plt.title('Relationship between the Percentage of Cocoa in Chocolate Bar and the Rating Over years', fontweight =\"bold\") \n",
    "\n",
    "# Adding grid\n",
    "g1.grid()\n",
    "\n",
    "# Show plot\n",
    "plt.show()"
   ]
  },
  {
   "cell_type": "markdown",
   "metadata": {},
   "source": [
    "###### Rating over the years (Taking the average amounts per year)\n",
    "* The lowest ever average rating was around 3 and it came in 2008.\n",
    "* Since then to 2011, there was a steady increase in average ratings and in 2011 it was at 3.26.\n",
    "* From 2011 to 2017, there have been several fluctuations in the ratings, and in 2017 the rating lies at its apex at around 3.31.\n",
    "* The Year 2008 - Year of Coincidence or something more than that?\n",
    "** The highest average cocoa percent was in 2008\n",
    "** The lowest average ratings came in 2008\n",
    "*The next year 2009 saw two major changes from the previous year :\n",
    "** There was a drastic reduce in cocoa content on an average\n",
    "** The average rating across the world had an increase from 3.00 to 3.08 in 2008"
   ]
  },
  {
   "cell_type": "markdown",
   "metadata": {},
   "source": [
    "## 3.4. What are the top ten companies with the highest rating?"
   ]
  },
  {
   "cell_type": "code",
   "execution_count": 234,
   "metadata": {},
   "outputs": [
    {
     "name": "stdout",
     "output_type": "stream",
     "text": [
      "                      Company  Rating\n",
      "0                        Soma      47\n",
      "1                      Bonnat      27\n",
      "2                      Fresco      26\n",
      "3                      Pralus      25\n",
      "4                    A. Morin      23\n",
      "5                       Arete      22\n",
      "6                    Guittard      22\n",
      "7                      Domori      22\n",
      "8                    Valrhona      21\n",
      "9  Hotel Chocolat (Coppeneur)      19\n"
     ]
    },
    {
     "data": {
      "image/png": "[encoded data removed]",
      "text/plain": [
       "<Figure size 720x288 with 1 Axes>"
      ]
     },
     "metadata": {},
     "output_type": "display_data"
    }
   ],
   "source": [
    "# Top 10 companies in terms of chocolate bars in this dataset\n",
    "top10companies = data[['Company','rating']]\n",
    "top10companies = top10companies['Company'].value_counts().sort_values(ascending=False).head(10)\n",
    "top10companies = pd.DataFrame(top10companies)\n",
    "top10companies.reset_index(level=0, inplace=True)\n",
    "top10companies.columns=['Company','Rating']\n",
    "print(top10companies)\n",
    "\n",
    "# visualizing Top 10 companies\n",
    "sns.set(style='white')\n",
    "plt.figure(figsize=(10,4))\n",
    "sns.barplot(x='Company', y='Rating', data=top10companies,palette=\"Blues_d\")\n",
    "plt.xlabel(\"\\nChocolate Company\")\n",
    "plt.ylabel(\"Number of Bars\")\n",
    "plt.title(\"Top 5 Companies in terms of Chocolate Bars\\n\")\n",
    "plt.xticks(rotation=45)\n",
    "plt.show()"
   ]
  },
  {
   "cell_type": "markdown",
   "metadata": {},
   "source": [
    "###### Soma has the highest number of chocolate bars in this dataset with 47."
   ]
  },
  {
   "cell_type": "markdown",
   "metadata": {},
   "source": [
    " ## 3.5. What is the pattern over the years with respect to rating?"
   ]
  },
  {
   "cell_type": "code",
   "execution_count": 162,
   "metadata": {},
   "outputs": [
    {
     "name": "stdout",
     "output_type": "stream",
     "text": [
      "    review_date  cocoa_percent\n",
      "0          2006       0.710000\n",
      "1          2007       0.720390\n",
      "2          2008       0.726989\n",
      "3          2009       0.704431\n",
      "4          2010       0.707793\n",
      "5          2011       0.709697\n",
      "6          2012       0.715282\n",
      "7          2013       0.722663\n",
      "8          2014       0.722530\n",
      "9          2015       0.720140\n",
      "10         2016       0.717580\n",
      "11         2017       0.715417\n"
     ]
    },
    {
     "data": {
      "image/png": "[encoded data removed]",
      "text/plain": [
       "<Figure size 1080x288 with 1 Axes>"
      ]
     },
     "metadata": {},
     "output_type": "display_data"
    }
   ],
   "source": [
    "# Cocoa Percentage patterns over the years\n",
    "cols = ['review_date','cocoa_percent']\n",
    "cocoaPercent = data[cols]\n",
    "cocoaPercent = data.groupby('review_date').aggregate({'cocoa_percent':'mean'})\n",
    "cocoaPercent = cocoaPercent.reset_index()\n",
    "print(cocoaPercent)\n",
    "\n",
    "#visualizing of Cocoa Percentage patterns over the years\n",
    "sns.set(style='white')\n",
    "plt.figure(figsize=(15, 4))\n",
    "ax = sns.lineplot(x='review_date', y='cocoa_percent', data=cocoaPercent, color=\"red\",marker='o')\n",
    "ax.set(xticks=cocoaPercent.review_date.values)\n",
    "plt.xlabel(\"\\nDate of Review\")\n",
    "plt.ylabel(\"Average Cocoa Percentage\")\n",
    "plt.title(\"Cocoa Percentage patterns over the years \\n\")\n",
    "plt.show()"
   ]
  },
  {
   "cell_type": "markdown",
   "metadata": {},
   "source": [
    "###### Percentage of Cocoa over the years (Taking the average amounts per year)\n",
    "* The highest percentage of cocoa in a chocolate bar came in 2008 and was about 73%.\n",
    "* The lowest percentage of cocoa followed in the very next year, 2009 and hit 69%.\n",
    "* There was a steep rise in the amount of cocoa in chocolate from 2009 to 2013 where it rose to about 72.2% from 69%.\n",
    "* From 2014, a steady decline in cocoa percentage in chocolate bars have been noticed and in 2017, it stands at just above 71.5%."
   ]
  },
  {
   "cell_type": "markdown",
   "metadata": {},
   "source": [
    "## 3.6 Is there a correlation between a bean's origin and the average rating of bars?"
   ]
  },
  {
   "cell_type": "code",
   "execution_count": null,
   "metadata": {},
   "outputs": [],
   "source": []
  },
  {
   "cell_type": "markdown",
   "metadata": {},
   "source": [
    "## 3.7 Which chocolate beans have the highest ratings?"
   ]
  },
  {
   "cell_type": "code",
   "execution_count": null,
   "metadata": {},
   "outputs": [],
   "source": []
  }
 ],
 "metadata": {
  "kernelspec": {
   "display_name": "Python 3",
   "language": "python",
   "name": "python3"
  },
  "language_info": {
   "codemirror_mode": {
    "name": "ipython",
    "version": 3
   },
   "file_extension": ".py",
   "mimetype": "text/x-python",
   "name": "python",
   "nbconvert_exporter": "python",
   "pygments_lexer": "ipython3",
   "version": "3.8.5"
  }
 },
 "nbformat": 4,
 "nbformat_minor": 4
}
